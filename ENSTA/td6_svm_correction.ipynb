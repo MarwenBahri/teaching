{
  "nbformat": 4,
  "nbformat_minor": 0,
  "metadata": {
    "colab": {
      "name": "Copy of td2_classification_supervisee_correction.ipynb",
      "version": "0.3.2",
      "provenance": [],
      "collapsed_sections": []
    },
    "kernelspec": {
      "display_name": "Python 3",
      "language": "python",
      "name": "python3"
    }
  },
  "cells": [
    {
      "metadata": {
        "id": "phu2ayWDLnu2",
        "colab_type": "text"
      },
      "cell_type": "markdown",
      "source": [
        "# TD 6: Classification supervisée et SVM\n",
        "## 24/04/2019\n",
        "\n",
        "## NOM Prenom\n",
        "\n",
        "L'énoncé du TD-notebook constitue la base du compte-rendu. Répondez aux questions dans le document et copiez les lignes de code qui ont produit les résultats aux endroits indiqués.\n",
        "\n",
        "Le TD comprend 2 parties:\n",
        "* Une prise de contact avec l'algorithme SVM et ses paramètres pour la classification binaire;\n",
        "* Classification multi-classe, et application à la reconnaissance de chiffres manuscrits.\n"
      ]
    },
    {
      "metadata": {
        "id": "49SXeP9y5Bmi",
        "colab_type": "text"
      },
      "cell_type": "markdown",
      "source": [
        "______\n",
        "\n",
        "# Introduction: Utilisation de Colab\n",
        "______\n",
        "\n",
        "Dans ce TD, on utilise les ressources proposées par ColaB. Les données seront stockées sur le Goggle Drive associé à votre compte Gmail.\n",
        "\n",
        "Pour accéder au données depuis Colab, il faut \"monter le Gdrive\" depuis une session Colab.\n",
        "\n",
        "Exécutez le cellule suivante pour le faire. il vous sera demandé de saisir une clé d'authentification générée à partir du lien affiché. (Ctrl+Enter ou clic sur la flèche)"
      ]
    },
    {
      "metadata": {
        "id": "mrs_sTGV15Xa",
        "colab_type": "code",
        "outputId": "4bc036e4-b81e-434d-b931-237b108312d9",
        "colab": {
          "base_uri": "https://localhost:8080/",
          "height": 35
        }
      },
      "cell_type": "code",
      "source": [
        "from google.colab import drive\n",
        "drive.mount('/content/gdrive')"
      ],
      "execution_count": 0,
      "outputs": [
        {
          "output_type": "stream",
          "text": [
            "Drive already mounted at /content/gdrive; to attempt to forcibly remount, call drive.mount(\"/content/gdrive\", force_remount=True).\n"
          ],
          "name": "stdout"
        }
      ]
    },
    {
      "metadata": {
        "id": "2l_9h-Hs7DQ5",
        "colab_type": "text"
      },
      "cell_type": "markdown",
      "source": [
        "Il faut ensuite positionner des variables d'environnement pour indiquer à Colab où se trouvent les données (fichiers python et données d'apprentissage).\n",
        "\n",
        "Exécutez la cellule suivante pour le faire, et modifiez la variable 'TD_DIR' à l'endroit où vous avez sauvegardé le TD1. "
      ]
    },
    {
      "metadata": {
        "id": "JJSr-2A-2YV4",
        "colab_type": "code",
        "colab": {}
      },
      "cell_type": "code",
      "source": [
        "import sys\n",
        "\n",
        "# Modifier la variable du TD en fonction de l'endroit où les données sont stockées\n",
        "TD_DIR = 'gdrive/My Drive/Colab Notebooks/ENSTA/TD2/'\n",
        "sys.path.append(TD_DIR)"
      ],
      "execution_count": 0,
      "outputs": []
    },
    {
      "metadata": {
        "id": "Lapuy2ipLnu7",
        "colab_type": "text"
      },
      "cell_type": "markdown",
      "source": [
        "## Partie 1: Classification binaire avec SVM\n",
        "\n",
        "On se propose dans cette première partie d'évaluer l'influence des différents paramètres d'apprentissage des SVM, et de développer une démarche permettant de les choisir en fonction de la nature de la distribution des données. On ne testera dans cette première partie que des distributions 2D pour visualiser les phénomènes.\n",
        "\n",
        "Les calculs utiliseront la bibliothèque de Machine Learning [scikit-learn](http://scikit-learn.org/stable/modules/classes.html). L'un des objectifs de cette première partie est de vous familiariser avec cet environnement.\n",
        "\n",
        "Chaque jeu de données est constitué de quatre ensembles :\n",
        "* Un ensemble de données test utilisées pour l'apprentissage : trainX\n",
        "* Un ensemble de classes associées aux données d'apprentissage : trainY\n",
        "* Un ensemble de données à tester : testX\n",
        "* Un ensemble de classes associées aux données de test : testY\n",
        "\n",
        "Ils sont générés par la fonction :\n",
        "\n",
        ">```python \n",
        "trainX, trainY, testX, testY = td.generate_data(family_number)\n",
        "```\n",
        "\n",
        "où family_number est un nombre entre 0 et 3. Chaque famille de données est caractérisée par une distribution différente.\n",
        "\n",
        "On peut la visualiser par la fonction :\n",
        "\n",
        ">```python \n",
        "td.show_data(trainX, trainY) ```\n",
        "\n",
        "L'objectif est d'optimiser les paramètres des SVM pour construire un classifieur capable de prédire les classes des données de test. \n",
        "\n",
        "Dans la bibliothèque scikit-learn, l'algorithme standard des SVM pour la classification est utilisable à travers la classe [`sklearn.svm.SVC`](http://scikit-learn.org/stable/modules/generated/sklearn.svm.SVC.html#sklearn.svm.SVC)\n",
        "\n",
        "Cette classe contient quatre méthodes utiles:\n",
        "* La définition des paramètres (par le consructeur de classe).\n",
        "* Le calcul de l'hyperplan: `fit`\n",
        "* La prédiction de classe pour de nouvelles données: `predict`\n",
        "* Le calcul d'erreur de prédiction: `score`\n",
        "\n",
        "Le classifieur peut être visualisé par la fonction :\n",
        ">```python \n",
        "td.plot_svc_decision_function(classifier) ```\n",
        "\n",
        "Remarque: Pour visualiser dans le notebook, appliquer l'instruction:\n",
        ">```python\n",
        "plt.show() ```\n",
        "\n",
        "après chaque fonction de visualisation.\n"
      ]
    },
    {
      "metadata": {
        "id": "vwQFTnITLnu-",
        "colab_type": "text"
      },
      "cell_type": "markdown",
      "source": [
        "### Activité 1.1 : Mon premier classifieur.\n",
        "\n",
        "<div class=\"alert alert-block alert-info\">\n",
        "\n",
        "Repérer les paramètres utiles des fonctions et la manière de les utiliser.\n",
        "\n",
        "Lancer une première chaîne de calcul pour apprendre un classifieur linéaire pour le jeu de données 0 et des valeurs par défaut.\n",
        "\n",
        "Visualiser les résultats et calculer l’erreur sur les jeux d’apprentissage et de test avec la fonction `score`. \n",
        "\n",
        "Utiliser la fonction `predict` et comparer les sorties produites avec les vraies valeurs. Vérifier avec la fonction `score` que les valeurs d'erreur sont les mêmes.\n",
        "\n",
        "Recommencer la séquence d'apprentissage avec les autres distributions de données (1 à 3).\n",
        "</div>\n"
      ]
    },
    {
      "metadata": {
        "id": "0C0VYpZ8LnvE",
        "colab_type": "code",
        "colab": {}
      },
      "cell_type": "code",
      "source": [
        "# Librairies utiles standard\n",
        "import numpy as np\n",
        "import matplotlib.pyplot as plt\n",
        "\n",
        "# Pour visualiser et récupérer les données\n",
        "import td_util as td \n",
        "\n",
        "# L'algorithme SVM dan la bibliothèque scikit-learn\n",
        "from sklearn import svm\n",
        "\n",
        "import random\n"
      ],
      "execution_count": 0,
      "outputs": []
    },
    {
      "metadata": {
        "scrolled": false,
        "id": "2d9aK7y8LnvM",
        "colab_type": "code",
        "outputId": "0ffa60f7-7d0a-42fc-8ebb-219b56bb894d",
        "colab": {
          "base_uri": "https://localhost:8080/",
          "height": 392
        }
      },
      "cell_type": "code",
      "source": [
        "# Classifieur \n",
        "svc = svm.SVC(kernel='linear', max_iter=-1)\n",
        "\n",
        "# Premier jeu de données\n",
        "trainX, trainY, testX, testY=td.generate_data(0)\n",
        "  \n",
        "td.show_data_2D(trainX,trainY)\n",
        "plt.show()\n",
        "\n"
      ],
      "execution_count": 0,
      "outputs": [
        {
          "output_type": "stream",
          "text": [
            "Gaussian two class isovariance samples\n"
          ],
          "name": "stdout"
        },
        {
          "output_type": "display_data",
          "data": {
            "image/png": "[encoded data removed]",
            "text/plain": [
              "<Figure size 576x432 with 1 Axes>"
            ]
          },
          "metadata": {
            "tags": []
          }
        }
      ]
    },
    {
      "metadata": {
        "scrolled": false,
        "id": "BU1b7IZCLnvY",
        "colab_type": "code",
        "outputId": "087dc99e-8f31-4d57-d346-6c1b0f8acc3f",
        "colab": {
          "base_uri": "https://localhost:8080/",
          "height": 429
        }
      },
      "cell_type": "code",
      "source": [
        "# METTRE VOTRE CODE ICI\n",
        "svc.fit(trainX, trainY)\n",
        "\n",
        "td.show_data_2D(trainX,trainY)\n",
        "td.plot_svc_decision_function(svc)\n",
        "plt.show()\n",
        "\n",
        "score_train = svc.score(trainX, trainY)\n",
        "print(\"Erreur d'apprentissage = {:.2f}%\".format(score_train*100))\n",
        "\n",
        "score_test = svc.score(testX, testY)\n",
        "print(\"Erreur de test = {:.2f}%\".format(score_test*100))\n",
        "\n",
        "predY = svc.predict(testX)\n",
        "nequal = (predY == testY).sum()\n",
        "print(\"Erreur de test (par predict) = {:.2f}%\".format(nequal/testY.shape[0]*100))\n"
      ],
      "execution_count": 0,
      "outputs": [
        {
          "output_type": "display_data",
          "data": {
            "image/png": "[encoded data removed]",
            "text/plain": [
              "<Figure size 576x432 with 1 Axes>"
            ]
          },
          "metadata": {
            "tags": []
          }
        },
        {
          "output_type": "stream",
          "text": [
            "Erreur d'apprentissage = 95.00%\n",
            "Erreur de test = 95.00%\n",
            "Erreur de test (par predict) = 95.00%\n"
          ],
          "name": "stdout"
        }
      ]
    },
    {
      "metadata": {
        "id": "3d30jhXDLnvg",
        "colab_type": "text"
      },
      "cell_type": "markdown",
      "source": [
        "<div class=\"alert alert-block alert-info\">\n",
        "Recommencer la séquence d'apprentissage avec les autres distributions de données (1 à 3).\n",
        "</div>"
      ]
    },
    {
      "metadata": {
        "scrolled": false,
        "id": "nNmY63XkLnvi",
        "colab_type": "code",
        "outputId": "880c3d1c-c689-4876-b270-41f5bb3ecd6b",
        "colab": {
          "base_uri": "https://localhost:8080/",
          "height": 1253
        }
      },
      "cell_type": "code",
      "source": [
        "# METTRE VOTRE CODE ICI\n",
        "for itest in [1,2,3]:\n",
        "    trainX, trainY, testX, testY=td.generate_data(itest)\n",
        "\n",
        "    svc.fit(trainX, trainY)\n",
        "\n",
        "    td.show_data_2D(trainX,trainY)\n",
        "    td.plot_svc_decision_function(svc)\n",
        "    plt.show()\n",
        "\n",
        "    score_train = svc.score(trainX, trainY)\n",
        "    print(\"Score d'apprentissage = {:.2f}%\".format(score_train*100))\n",
        "\n",
        "    score_test = svc.score(testX, testY)\n",
        "    print(\"Score de test = {:.2f}%\".format(score_test*100))\n"
      ],
      "execution_count": 0,
      "outputs": [
        {
          "output_type": "stream",
          "text": [
            "Gaussian two class heterogeneous variance samples\n"
          ],
          "name": "stdout"
        },
        {
          "output_type": "display_data",
          "data": {
            "image/png": "[encoded data removed]",
            "text/plain": [
              "<Figure size 576x432 with 1 Axes>"
            ]
          },
          "metadata": {
            "tags": []
          }
        },
        {
          "output_type": "stream",
          "text": [
            "Score d'apprentissage = 95.00%\n",
            "Score de test = 92.50%\n",
            "Intricated data\n"
          ],
          "name": "stdout"
        },
        {
          "output_type": "display_data",
          "data": {
            "image/png": "[encoded data removed]",
            "text/plain": [
              "<Figure size 576x432 with 1 Axes>"
            ]
          },
          "metadata": {
            "tags": []
          }
        },
        {
          "output_type": "stream",
          "text": [
            "Score d'apprentissage = 80.00%\n",
            "Score de test = 81.00%\n",
            "XOR like distribution\n"
          ],
          "name": "stdout"
        },
        {
          "output_type": "display_data",
          "data": {
            "image/png": "[encoded data removed]",
            "text/plain": [
              "<Figure size 576x432 with 1 Axes>"
            ]
          },
          "metadata": {
            "tags": []
          }
        },
        {
          "output_type": "stream",
          "text": [
            "Score d'apprentissage = 56.00%\n",
            "Score de test = 55.25%\n"
          ],
          "name": "stdout"
        }
      ]
    },
    {
      "metadata": {
        "id": "U5Sse0KZLnvp",
        "colab_type": "text"
      },
      "cell_type": "markdown",
      "source": [
        "<div class=\"alert alert-block alert-success\">\n",
        "QUESTION: Expliquez les différences de comportement du classifieur.\n",
        "</div>"
      ]
    },
    {
      "metadata": {
        "id": "SF1i0pcSLnvs",
        "colab_type": "text"
      },
      "cell_type": "markdown",
      "source": [
        "**Réponse**\n",
        "\n",
        "Certaines distributions de données ne sont pas linéairement séparables (données 2 et 3). Le noyau linéaire des SVM n'est alors pas adapté. La distribution 3 produit une erreur proche du taux maximal pour la discrimination de 2 classes (50%). "
      ]
    },
    {
      "metadata": {
        "id": "xlBaVsqnLnvy",
        "colab_type": "text"
      },
      "cell_type": "markdown",
      "source": [
        "### Activité 1.2: Influence du noyau\n",
        "\n",
        "<div class=\"alert alert-block alert-info\">\n",
        "Repérer comment spécifier le type de noyau utilisé, et ses paramètres.\n",
        "\n",
        "Reprendre l'étude précédente en jouant sur le type de noyau et sur ses paramètres. \n",
        "\n",
        "Illustrer les différences en utilisant la fonction de visualisation `td.plot_svc_decision_function`.\n",
        "</div>"
      ]
    },
    {
      "metadata": {
        "scrolled": false,
        "id": "FYBKDMorLnvz",
        "colab_type": "code",
        "colab": {}
      },
      "cell_type": "code",
      "source": [
        "# METTRE VOTRE CODE ICI\n",
        "\n",
        "for itest in [1,2,3]:\n",
        "    trainX, trainY, testX, testY=td.generate_data(itest)\n",
        "\n",
        "    for kernel in ['rbf', 'poly', 'sigmoid']:\n",
        "        svc = svm.SVC(kernel=kernel, max_iter=-1, gamma='auto')\n",
        "\n",
        "        svc.fit(trainX, trainY)\n",
        "\n",
        "        td.show_data_2D(trainX,trainY)\n",
        "        td.plot_svc_decision_function(svc)\n",
        "        plt.title(\"Kernel = {}\".format(kernel))\n",
        "        plt.show()\n",
        "\n",
        "        score_train = svc.score(trainX, trainY)\n",
        "        print(\"Score d'apprentissage = {:.2f}%\".format(score_train*100))\n",
        "\n",
        "        score_test = svc.score(testX, testY)\n",
        "        print(\"Score de test = {:.2f}%\".format(score_test*100))\n"
      ],
      "execution_count": 0,
      "outputs": []
    },
    {
      "metadata": {
        "id": "6NftfhRQLnv9",
        "colab_type": "text"
      },
      "cell_type": "markdown",
      "source": [
        "<div class=\"alert alert-block alert-success\">\n",
        "QUESTION: Commentez les différences de comportement du classifieur.\n",
        "</div>"
      ]
    },
    {
      "metadata": {
        "id": "ykdtjWckLnwC",
        "colab_type": "text"
      },
      "cell_type": "markdown",
      "source": [
        "**Réponse**\n",
        "\n",
        "Certains noyaux permettent d'obtenir une meilleure discrimination que d'autres, avec le paramétrage par défaut. Le noyau 'RBF' semble le plus polyvalent sur les distributions étudiées. Le noyau 'sigmoid' le moins stable."
      ]
    },
    {
      "metadata": {
        "id": "r2BoEQ__LnwI",
        "colab_type": "text"
      },
      "cell_type": "markdown",
      "source": [
        "### Activité 1.3 : Influence des paramètres de régularisation\n",
        "\n",
        "<div class=\"alert alert-block alert-info\">\n",
        "Nous étudions ici comment l'algorithme SVM est capable de gérer la présence de données aberrantes (\"outliers\" en anglais) en jouant sur ses paramètres de généralisation.\n",
        "\n",
        "On génère différents niveaux de bruit en spécifiant le paramètre `noise` (entre 0 et 1) dans la fonction de génération de données:\n",
        "</div>\n",
        "\n",
        ">```python td.generate_data(family_number, noise=0.1) ```\n",
        "\n",
        "<div class=\"alert alert-block alert-info\">\n",
        "Repérer le paramètre à spécifier pour fixer le paramètre de régularisation.\n",
        "\n",
        "Etudier l'influence de ce paramètre sur le jeu de données 2 avec un noyau \"rbf\" en produisant différents résultats de classification (visualisation et erreur sur ensemble de test), et différentes valeurs de bruit. \n",
        "\n",
        "</div>"
      ]
    },
    {
      "metadata": {
        "scrolled": false,
        "id": "1fsk9draLnwL",
        "colab_type": "code",
        "colab": {}
      },
      "cell_type": "code",
      "source": [
        "trainX, trainY, testX, testY=td.generate_data(2, noise=0.1)\n",
        "\n",
        "# METTRE VOTRE CODE ICI\n",
        "\n",
        "Clist=[0.01,0.1,1,10,100]\n",
        "\n",
        "for Cval in Clist:\n",
        "    svc = svm.SVC(C=Cval, gamma = 1.0, kernel='rbf', max_iter=-1)\n",
        "    svc.fit(trainX, trainY)\n",
        "    score=svc.score(testX, testY)\n",
        "    \n",
        "    td.show_data_2D(testX,testY)\n",
        "    td.plot_svc_decision_function(svc, plot_support=False)\n",
        "    plt.title(\"C = {}\".format(Cval))\n",
        "    plt.show()\n",
        "    \n",
        "    score_test = svc.score(testX, testY)\n",
        "    print(\"Score de test = {:.2f}%\".format(score_test*100))\n",
        "\n"
      ],
      "execution_count": 0,
      "outputs": []
    },
    {
      "metadata": {
        "id": "T2vexrsBLnwQ",
        "colab_type": "code",
        "colab": {}
      },
      "cell_type": "code",
      "source": [
        "fig, ax = plt.subplots()\n",
        "for noiseVal in [0,0.1,0.2,0.3]:\n",
        "    \n",
        "    trainX, trainY, testX, testY=td.generate_data(2, noise=noiseVal)\n",
        "\n",
        "    Clist=np.logspace(-2,1,20)\n",
        "\n",
        "    score=[]\n",
        "    scorelearn=[]\n",
        "    for Cval in Clist:\n",
        "        svc = svm.SVC(C=Cval, gamma = 1.0, kernel='rbf', max_iter=-1)\n",
        "        svc.fit(trainX, trainY)\n",
        "        score.append(svc.score(testX, testY))\n",
        "        scorelearn.append(svc.score(trainX, trainY))\n",
        "\n",
        "        #ax.semilogx(Clist,score,label='noise = {}'.format(noiseVal))\n",
        "        #ax.semilogx(Clist,scorelearn,label='noise learn = {}'.format(noiseVal))\n",
        "\n",
        "    ax.semilogx(Clist,np.array(scorelearn) - np.array(score),label='noise learn = {}'.format(noiseVal))\n",
        "\n",
        "    plt.title('Différence entre apprentissage et test pour différentes valeurs de bruit')\n",
        "    plt.legend()\n",
        "plt.show()\n"
      ],
      "execution_count": 0,
      "outputs": []
    },
    {
      "metadata": {
        "id": "xFik_yRYLnwX",
        "colab_type": "text"
      },
      "cell_type": "markdown",
      "source": [
        "<div class=\"alert alert-block alert-success\">\n",
        "QUESTION: Commentez les différences de comportement du classifieur.\n",
        "</div>"
      ]
    },
    {
      "metadata": {
        "id": "LKaUNjYeLnwa",
        "colab_type": "text"
      },
      "cell_type": "markdown",
      "source": [
        "**Réponse**\n",
        "\n",
        "Les différentes valeurs du coefficient C de régularisation génèrent différents niveaux d'erreur. Plus 'C' est faible, plus le classifieur est \"lisse\", régulier. \n",
        "\n",
        "La régularisation a pour objectif de minimiser l'erreur entre erreur d'apprentissage et erreur de test. Sur cet exemple, le bruit n'est produit que pour les données d'apprentissage (pas les données de test). L'erreur de test est alors inférieure à celle d'apprentissage dans la configuration optimale.\n",
        "\n",
        "Une valeur optimale est à rechercher pour C entre 0.2 et 1 pour ce jeu de données.\n",
        "\n"
      ]
    },
    {
      "metadata": {
        "id": "5ForLtzeLnwc",
        "colab_type": "text"
      },
      "cell_type": "markdown",
      "source": [
        "### Activité 1.4: Optimisation des paramètres par validation croisée"
      ]
    },
    {
      "metadata": {
        "id": "5_aMq0RXLnwf",
        "colab_type": "text"
      },
      "cell_type": "markdown",
      "source": [
        "<div class=\"alert alert-block alert-info\">\n",
        "\n",
        "On cherche les meilleurs paramètres adaptés aux données, sans utiliser les données de test. On se propose ici d'utiliser une méthode systématique de recherche par validation croisée.\n",
        "\n",
        "<br>\n",
        "L'environnement scikit-learn permet d'automatiser cette recherche en utilisant la classe [GridSearchCV](http://scikit-learn.org/stable/modules/generated/sklearn.model_selection.GridSearchCV.html#sklearn.model_selection.GridSearchCV).\n",
        "\n",
        "<br>\n",
        "Le principe d'utilisation de cette classe est d'estimer l'erreur de généralisation par validation croisée sur une grille de paramètres. Cette grille est définie comme un `dict` (ou une `list` de `dict`) où chaque clé contient une liste de paramètres. L'appel à la méthode `fit` sur le classifieur estime les performances sur l'ensemble des configurations possibles:\n",
        "</div>\n",
        "\n",
        ">```python clf = GridSearchCV(svc, parameter_dict) ```\n",
        "\n",
        ">```python clf.fit(trainX, trainY) ```\n",
        "\n",
        "<div class=\"alert alert-block alert-info\">\n",
        "\n",
        "Utiliser cette classe pour trouver la meilleure combinaison de paramètres (noyau, paramètres du noyau, coefficient de régularisation) pour les jeux de données 2 et 3.\n",
        "\n",
        "</div>"
      ]
    },
    {
      "metadata": {
        "scrolled": false,
        "id": "Yj6AhGXOLnwh",
        "colab_type": "code",
        "colab": {}
      },
      "cell_type": "code",
      "source": [
        "# Import de la classe pour Validation Croisée\n",
        "from sklearn.model_selection import GridSearchCV\n",
        "\n",
        "svc = svm.SVC(shrinking=True,max_iter=1000000,gamma='auto') # max_iter = 1000000 pour limiter les non convergences de l'optimiseur \n",
        "\n",
        "for itest in [1,2,3]:\n",
        "    trainX, trainY, testX, testY=td.generate_data(itest)\n",
        "\n",
        "    # METTRE VOTRE CODE ICI\n",
        "\n",
        "    parameters = [{'kernel':['rbf'], \n",
        "                  'C':np.logspace(-2, 2, 7), \n",
        "                  'gamma':np.logspace(-3, 2, 10)},\n",
        "                 {'kernel':['poly'], \n",
        "                  'C':np.logspace(-2, 2, 7), \n",
        "                  'degree':[2,3,4]}]\n",
        "\n",
        "\n",
        "    clf = GridSearchCV(svc, parameters)\n",
        "    clf.fit(trainX, trainY)\n",
        "\n",
        "    bestsvc = clf.best_estimator_\n",
        "\n",
        "    print(\"Best score = {:.2f} with kernel {}\".format(clf.best_score_, bestsvc.kernel))\n",
        "    if bestsvc.kernel == 'rbf':\n",
        "        print(\"Parameters are gamma = {:.2g} and C = {:2g}\".format(bestsvc.gamma, bestsvc.C))\n",
        "    elif bestsvc.kernel == 'poly':\n",
        "        print(\"Parameters are degree = {} and C = {:2g}\".format(bestsvc.degree, bestsvc.C))\n",
        "\n",
        "\n",
        "    td.show_data_2D(testX,testY)\n",
        "    td.plot_svc_decision_function(bestsvc, plot_support=False)\n",
        "    plt.show()\n"
      ],
      "execution_count": 0,
      "outputs": []
    },
    {
      "metadata": {
        "collapsed": true,
        "id": "toDaO6zPLnwq",
        "colab_type": "text"
      },
      "cell_type": "markdown",
      "source": [
        "<div class=\"alert alert-block alert-success\">\n",
        "QUESTION: Quelles configurations de paramètres optimales obtenez-vous?\n",
        "</div>"
      ]
    },
    {
      "metadata": {
        "id": "2-3AaxHhLnws",
        "colab_type": "text"
      },
      "cell_type": "markdown",
      "source": [
        "**Réponse**\n"
      ]
    },
    {
      "metadata": {
        "collapsed": true,
        "id": "0bgyOHt0Lnwt",
        "colab_type": "text"
      },
      "cell_type": "markdown",
      "source": [
        "## Partie 2 : multi-classe avec SVM\n",
        "\n",
        "Dans cette partie, l'objectif est de discriminer les données en plusieurs classes. Comme indiqué dans le cours, deux stratégies principales sont couramment utilisées: un contre un (\"one vs. one\") ou un contre les autres (\"one vs. rest\"). L'environnement scikit-learn contient une sur-classe [`multiclass`](http://scikit-learn.org/stable/modules/classes.html#module-sklearn.multiclass) capable de gérer ces deux types de stratégies.\n",
        "\n",
        "\n",
        "Dans le cas des problèmes multi-classe, les performances sont usuellement évaluées sous la forme de [matrices de confusion](http://scikit-learn.org/stable/modules/generated/sklearn.metrics.confusion_matrix.html).\n"
      ]
    },
    {
      "metadata": {
        "id": "4LGa3XsbLnwv",
        "colab_type": "text"
      },
      "cell_type": "markdown",
      "source": [
        "### Activité 2.1: stratégies de classification multi-classe"
      ]
    },
    {
      "metadata": {
        "id": "BSZ9RLXsLnww",
        "colab_type": "text"
      },
      "cell_type": "markdown",
      "source": [
        "<div class=\"alert alert-block alert-info\">\n",
        "\n",
        "Comparez les deux stratégies multi-classe `OneVsOne` et `OneVsRest` sur les données du jeu de test 4 et un noyau polynomial. Utilisez pour cela la sur-classe `multiclass`, et fournir les matrices de confusion de la classification.\n",
        "\n",
        "</div>"
      ]
    },
    {
      "metadata": {
        "scrolled": true,
        "id": "tiBwq2YXLnwy",
        "colab_type": "code",
        "colab": {}
      },
      "cell_type": "code",
      "source": [
        "# Utilisation des deux stratégies multi-classe (\"one vs. one\", \"one vs. rest\")\n",
        "from sklearn.multiclass import OneVsOneClassifier, OneVsRestClassifier\n",
        "\n",
        "# Pour calculer une matrice de confusion\n",
        "from sklearn.metrics import confusion_matrix\n",
        "\n",
        "trainX, trainY, testX, testY=td.generate_data(4)\n",
        "\n",
        "\n",
        "svc = svm.SVC(C=0.1, kernel='poly', degree=2, max_iter=10000, gamma='auto')\n"
      ],
      "execution_count": 0,
      "outputs": []
    },
    {
      "metadata": {
        "scrolled": false,
        "id": "L2ZF1C5rLnw8",
        "colab_type": "code",
        "colab": {}
      },
      "cell_type": "code",
      "source": [
        "# METTRE VOTRE CODE ICI\n",
        "\n",
        "svcmulti = OneVsRestClassifier(svc)\n",
        "svcmulti.fit(trainX, trainY)\n",
        "td.show_data_2D(trainX,trainY)\n",
        "td.plot_svc_decision_regions(svcmulti)\n",
        "plt.title('OneVsRest')\n",
        "plt.show()\n",
        "\n",
        "predY = svcmulti.predict(testX)\n",
        "print(confusion_matrix(testY, predY))\n",
        "\n",
        "print(\"OneVsRest score = {}\".format(svcmulti.score(testX, testY)))\n",
        "\n",
        "svcmulti = OneVsOneClassifier(svc)\n",
        "svcmulti.fit(trainX, trainY)\n",
        "td.show_data_2D(trainX,trainY)\n",
        "td.plot_svc_decision_regions(svcmulti)\n",
        "plt.title('OneVsOne')\n",
        "plt.show()\n",
        "\n",
        "predY = svcmulti.predict(testX)\n",
        "print(confusion_matrix(testY, predY))\n",
        "\n",
        "print(\"OneVsOne score = {}\".format(svcmulti.score(testX, testY)))\n"
      ],
      "execution_count": 0,
      "outputs": []
    },
    {
      "metadata": {
        "id": "ZCQ8WQAfLnxI",
        "colab_type": "text"
      },
      "cell_type": "markdown",
      "source": [
        "<div class=\"alert alert-block alert-success\">\n",
        "QUESTION: Commentez les différences de comportement du classifieur.\n",
        "</div>"
      ]
    },
    {
      "metadata": {
        "id": "xec7pbqkLnxJ",
        "colab_type": "text"
      },
      "cell_type": "markdown",
      "source": [
        "**Réponse**\n",
        "\n",
        "La répartition des données diffère selon les classes. Certaines classes ont deux modes, intriqués avec les autres distributions. Dans ce cas de figure, la stratégie \"un contre un\" semble la plus efficace (légèrement) car elle permet de mieux spécialiser les classifieurs à chaque type de difficulté."
      ]
    },
    {
      "metadata": {
        "id": "Gykp6qwZLnxQ",
        "colab_type": "text"
      },
      "cell_type": "markdown",
      "source": [
        "### Activité 2.2: classification de chiffres manuscrits"
      ]
    },
    {
      "metadata": {
        "id": "KYJMzLA5LnxS",
        "colab_type": "text"
      },
      "cell_type": "markdown",
      "source": [
        "\n",
        "<div class=\"alert alert-block alert-info\">\n",
        "\n",
        "On dispose d’un ensemble d’images de données de chiffres manuscrits. L’objectif de cette partie est de se mettre dans les conditions d’une compétition de reconnaissance des formes pour produire les meilleures performances sur l’ensemble de test pour lequel on ne connaît pas la vraie classe (« vérité terrain » = ground truth en anglais). Dans le cadre de ce TD, et pour situer le niveau de performances, on évaluera les classifieurs sur la base de test, mais elle ne devra pas être utilisée pour l'apprentissage.\n",
        "\n",
        "<br><br>\n",
        "Définissez une stratégie de recherche de paramètres par validation croisée sur les noyaux et leurs paramètres. Rem: on peut obtenir plus de 95% de reconnaissance sur la base de test. Visualisez quelques exemples de données mal classées.\n",
        "\n",
        "</div>"
      ]
    },
    {
      "metadata": {
        "id": "jHFSPMfuLnxU",
        "colab_type": "code",
        "colab": {}
      },
      "cell_type": "code",
      "source": [
        "#Chargement des données\n",
        "from sklearn import datasets\n",
        "\n",
        "images, classes = datasets.load_digits(return_X_y = True)\n",
        "n_samples = len(images)\n",
        "data = images.reshape((n_samples, -1))\n",
        "\n",
        "#Constitution des bases d'apprentissage et de test\n",
        "ntrain = 800\n",
        "trainX = data[:ntrain,:]\n",
        "trainY = classes[:ntrain]\n",
        "testX = data[ntrain:-1,:]\n",
        "testY = classes[ntrain:-1]\n",
        "\n",
        "#Visu des données\n",
        "fig, axes = plt.subplots(2, 4)\n",
        "\n",
        "for ax in axes.flat:\n",
        "    isample = np.random.randint(trainX.shape[0])\n",
        "    ax.imshow(trainX[isample].reshape(8,8),cmap='gray')\n",
        "    ax.set_title(\"Chiffre = {}\".format(trainY[isample]))\n",
        "    ax.axis('off')\n",
        "\n",
        "plt.show() "
      ],
      "execution_count": 0,
      "outputs": []
    },
    {
      "metadata": {
        "id": "eCG1tHanLnxe",
        "colab_type": "code",
        "colab": {}
      },
      "cell_type": "code",
      "source": [
        "# METTRE VOTRE CODE ICI\n",
        "\n",
        "parameters = [{'kernel':['linear'], \n",
        "              'C':np.logspace(-2, 2, 5)},\n",
        "              {'kernel':['rbf'], \n",
        "              'C':np.logspace(-2, 2, 5), \n",
        "              'gamma':np.logspace(-3, 2, 10)},\n",
        "             {'kernel':['poly'], \n",
        "              'C':np.logspace(-2, 2, 5), \n",
        "              'degree':[2,3,4]}]\n",
        "\n",
        "svc = svm.SVC(shrinking=False,max_iter=10000, verbose=1)\n",
        "clf = GridSearchCV(cv=5,estimator=svc, param_grid=parameters)\n",
        "clf.fit(trainX, trainY)\n",
        "\n",
        "bestsvc = clf.best_estimator_\n",
        "\n",
        "print(\"\\nBest score = {:.2f}% with kernel {}\".format(100*clf.best_score_, bestsvc.kernel))\n",
        "if bestsvc.kernel == 'rbf':\n",
        "    print(\"Parameters are gamma = {:.2g} and C = {:2g}\".format(bestsvc.gamma, bestsvc.C))\n",
        "elif bestsvc.kernel == 'poly':\n",
        "    print(\"Parameters are degree = {} and C = {:2g}\".format(bestsvc.degree, bestsvc.C))\n",
        "\n",
        "predY=bestsvc.predict(testX)\n",
        "print(confusion_matrix(testY, predY))\n",
        "\n",
        "nequal = (predY == testY).sum()\n",
        "print(\"Taux de reco = {:.2f}%\".format(nequal/testY.shape[0]*100))\n"
      ],
      "execution_count": 0,
      "outputs": []
    },
    {
      "metadata": {
        "id": "8iNcabRKLnxt",
        "colab_type": "code",
        "colab": {}
      },
      "cell_type": "code",
      "source": [
        "# Visualisation des données mal classées\n",
        "\n",
        "# METTRE VOTRE CODE ICI\n",
        "\n",
        "ibad=(predY != testY).nonzero()[0]\n",
        "\n",
        "fig, axes = plt.subplots(2, 4)\n",
        "for ax in axes.flat:\n",
        "    isample = ibad[np.random.randint(ibad.shape[0])]\n",
        "    ax.imshow(testX[isample].reshape(8,8),cmap='gray')\n",
        "    ax.set_title(\"Predit {} au lieu de {}\".format(predY[isample], testY[isample]))\n",
        "    ax.axis('off')\n",
        "\n",
        "plt.show() \n"
      ],
      "execution_count": 0,
      "outputs": []
    },
    {
      "metadata": {
        "id": "ShLU0sngLnx2",
        "colab_type": "code",
        "colab": {}
      },
      "cell_type": "code",
      "source": [
        "# Autre version avec LinearSVC (beaucoup plus rapide)\n",
        "\n",
        "parameters = {'C':np.logspace(-3, 3, 7)}\n",
        "svc = svm.LinearSVC(max_iter=10000, tol=1e-3, verbose=True, dual=False)\n",
        "\n",
        "clf = GridSearchCV(cv=5,estimator=svc, param_grid=parameters)\n",
        "clf.fit(trainX, trainY)\n",
        "\n",
        "bestsvc = clf.best_estimator_\n",
        "\n",
        "print(\"\\nBest score = {:.2f}% with C={:.2g}\".format(100*clf.best_score_, bestsvc.C))\n",
        "\n",
        "predY=bestsvc.predict(testX)\n",
        "print(confusion_matrix(testY, predY))\n",
        "\n",
        "nequal = (predY == testY).sum()\n",
        "print(\"Taux de reco = {:.2f}%\".format(nequal/testY.shape[0]*100))\n"
      ],
      "execution_count": 0,
      "outputs": []
    },
    {
      "metadata": {
        "id": "Jqqzxd4BLnx5",
        "colab_type": "text"
      },
      "cell_type": "markdown",
      "source": [
        "Pour aller plus loin, d'autres bases d'apprentissage de chiffres manuscrits, et les scores de différentes approches, sont accessibles [ici](http://rodrigob.github.io/are_we_there_yet/build/classification_datasets_results.html#5356484e). \n",
        "\n",
        "La base MNIST peut être chargée par le script ci-dessous. Elle contient également une base de caractéristiques calculées sur les images source (HOG = Histogram Of Gradients, descripteurs de Fourier).\n"
      ]
    },
    {
      "metadata": {
        "scrolled": false,
        "id": "s_y_lcvJLnx6",
        "colab_type": "text"
      },
      "cell_type": "markdown",
      "source": [
        "# Mettre la CELL en type `code` pour l'exécuter \n",
        "# Chargement des données MNIST\n",
        "import scipy.io\n",
        "\n",
        "# Images brutes et annotations\n",
        "mat = scipy.io.loadmat('data/mnist_test_train.mat')\n",
        "testImg = mat['testImg']\n",
        "trainImg = mat['trainImg']\n",
        "testY = mat['testY'].ravel()\n",
        "trainY = mat['trainY'].ravel()\n",
        "\n",
        "# caractéristiques image de type HOG (histogram of gradients)\n",
        "mat = scipy.io.loadmat('data/hog_test_train.mat')\n",
        "testF = mat['testF']\n",
        "trainF = mat['trainF']\n",
        "\n",
        "# Visu d'exemples\n",
        "fig, axes = plt.subplots(2, 4)\n",
        "\n",
        "for ax in axes.flat:\n",
        "    ax.imshow(testImg[np.random.randint(testImg.shape[0])].reshape(28,28),cmap='gray')\n",
        "    ax.axis('off')\n",
        "plt.show()\n"
      ]
    },
    {
      "metadata": {
        "id": "-C5QozkHLnx8",
        "colab_type": "code",
        "colab": {}
      },
      "cell_type": "code",
      "source": [
        ""
      ],
      "execution_count": 0,
      "outputs": []
    }
  ]
}